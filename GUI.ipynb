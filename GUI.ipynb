{
 "cells": [
  {
   "cell_type": "code",
   "execution_count": 2,
   "metadata": {},
   "outputs": [
    {
     "data": {
      "text/plain": [
       "<bound method Kernel.raw_input of <ipykernel.ipkernel.IPythonKernel object at 0x000002D778D552C8>>"
      ]
     },
     "metadata": {},
     "output_type": "display_data"
    },
    {
     "data": {
      "application/vnd.jupyter.widget-view+json": {
       "model_id": "21afde58c50a4573b02aa34a41330f38",
       "version_major": 2,
       "version_minor": 0
      },
      "text/plain": [
       "Checkbox(value=False, description='Tokenziation')"
      ]
     },
     "metadata": {},
     "output_type": "display_data"
    },
    {
     "data": {
      "application/vnd.jupyter.widget-view+json": {
       "model_id": "2519f718d14b4cb5908806febf030600",
       "version_major": 2,
       "version_minor": 0
      },
      "text/plain": [
       "Checkbox(value=False, description='Sentence Splitting')"
      ]
     },
     "metadata": {},
     "output_type": "display_data"
    },
    {
     "data": {
      "application/vnd.jupyter.widget-view+json": {
       "model_id": "a58184a2734a4f61bb628835133c8d68",
       "version_major": 2,
       "version_minor": 0
      },
      "text/plain": [
       "Checkbox(value=False, description='Part of Speech')"
      ]
     },
     "metadata": {},
     "output_type": "display_data"
    },
    {
     "data": {
      "application/vnd.jupyter.widget-view+json": {
       "model_id": "9fbf658f9b604066bdc2d343e9026fd1",
       "version_major": 2,
       "version_minor": 0
      },
      "text/plain": [
       "Checkbox(value=False, description='Lemmatisierung')"
      ]
     },
     "metadata": {},
     "output_type": "display_data"
    },
    {
     "data": {
      "application/vnd.jupyter.widget-view+json": {
       "model_id": "0a37012364fc4a30847d1c720f3fa232",
       "version_major": 2,
       "version_minor": 0
      },
      "text/plain": [
       "Checkbox(value=False, description='Stemming')"
      ]
     },
     "metadata": {},
     "output_type": "display_data"
    },
    {
     "data": {
      "application/vnd.jupyter.widget-view+json": {
       "model_id": "01188b2aa4714f38b8eb3e7f632036e4",
       "version_major": 2,
       "version_minor": 0
      },
      "text/plain": [
       "Button(description='Start', style=ButtonStyle())"
      ]
     },
     "metadata": {},
     "output_type": "display_data"
    }
   ],
   "source": [
    "import ipywidgets as widgets\n",
    "from IPython.display import display\n",
    "\n",
    "lemma = False\n",
    "\n",
    "inBox = widgets.Dropdown(\n",
    "    options=['File', 'Eingabe'],\n",
    "    value='File',\n",
    "    description='Input:',\n",
    "    disabled=False,\n",
    ")\n",
    "\n",
    "tokBox = widgets.Checkbox(\n",
    "    value=False,\n",
    "    description='Tokenziation',\n",
    "    disabled=False\n",
    ")\n",
    "\n",
    "ssplitBox = widgets.Checkbox(\n",
    "    value=False,\n",
    "    description='Sentence Splitting',\n",
    "    disabled=False\n",
    ")\n",
    "\n",
    "posBox = widgets.Checkbox(\n",
    "    value=False,\n",
    "    description='Part of Speech',\n",
    "    disabled=False\n",
    ")\n",
    "\n",
    "lemmaBox = widgets.Checkbox(\n",
    "    value=False,\n",
    "    description='Lemmatisierung',\n",
    "    disabled=False\n",
    ")\n",
    "\n",
    "stemBox = widgets.Checkbox(\n",
    "    value=False,\n",
    "    description='Stemming',\n",
    "    disabled=False\n",
    ")\n",
    "\n",
    "btn = widgets.Button(description='Start')\n",
    "display(input, tokBox, ssplitBox, posBox, lemmaBox, stemBox, btn)\n",
    "def btn_eventhandler(obj):\n",
    "    if inBox.value == \"FIle\":\n",
    "        file = open('input.txt','r')\n",
    "        text = file.read()\n",
    "    elif inBox.value == \"Eingabe\":\n",
    "        text = input(\"Ihre Eingabe? \")\n",
    "    else:\n",
    "        print(\"Es wurde keine Input Methode gewählt!\")\n",
    "    print('Hello from the {} button!'.format(obj.description))\n",
    "btn.on_click(btn_eventhandler)\n",
    "\n"
   ]
  },
  {
   "cell_type": "code",
   "execution_count": null,
   "metadata": {},
   "outputs": [],
   "source": []
  }
 ],
 "metadata": {
  "kernelspec": {
   "display_name": "Python 3",
   "language": "python",
   "name": "python3"
  },
  "language_info": {
   "codemirror_mode": {
    "name": "ipython",
    "version": 3
   },
   "file_extension": ".py",
   "mimetype": "text/x-python",
   "name": "python",
   "nbconvert_exporter": "python",
   "pygments_lexer": "ipython3",
   "version": "3.7.8"
  }
 },
 "nbformat": 4,
 "nbformat_minor": 1
}