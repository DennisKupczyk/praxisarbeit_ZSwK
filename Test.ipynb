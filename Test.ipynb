{
 "cells": [
  {
   "cell_type": "code",
   "execution_count": 1,
   "metadata": {
    "collapsed": true
   },
   "outputs": [
    {
     "data": {
      "text/plain": "VBox(children=(Text(value='', disabled=True, layout=Layout(width='190px'), placeholder='0'), HBox(children=(Bu…",
      "application/vnd.jupyter.widget-view+json": {
       "version_major": 2,
       "version_minor": 0,
       "model_id": "ad5fa6bc146e461b8573c71afa428bac"
      }
     },
     "metadata": {},
     "output_type": "display_data"
    }
   ],
   "source": [
    "from __future__ import division\n",
    "import ipywidgets as ipw\n",
    "\n",
    "output = ipw.Text(placeholder=\"0\", layout=ipw.Layout(width=\"190px\"),  disabled=True)\n",
    "\n",
    "def on_click(btn):\n",
    "    if btn.description == \"=\":\n",
    "        try:\n",
    "            output.value = str(eval(output.value))\n",
    "        except:\n",
    "            output.value = \"ERROR\"\n",
    "    elif btn.description == \"AC\":\n",
    "        output.value = \"\"\n",
    "    elif btn.description == \"del\":\n",
    "        output.value = output.value[:-1]\n",
    "    else:\n",
    "        output.value = output.value + btn.description\n",
    "\n",
    "def mk_btn(description):\n",
    "    btn = ipw.Button(description=description, layout=ipw.Layout(width=\"45px\"))\n",
    "    btn.on_click(on_click)\n",
    "    return btn\n",
    "\n",
    "row0 = ipw.HBox([mk_btn(d) for d in (\"(\", \")\", \"del\", \"AC\")])\n",
    "row1 = ipw.HBox([mk_btn(d) for d in (\"7\", \"8\", \"9\", \" / \")])\n",
    "row2 = ipw.HBox([mk_btn(d) for d in (\"4\", \"5\", \"6\", \" * \")])\n",
    "row3 = ipw.HBox([mk_btn(d) for d in (\"1\", \"2\", \"3\", \" - \")])\n",
    "row4 = ipw.HBox([mk_btn(d) for d in (\"0\", \".\", \"=\", \" + \")])\n",
    "ipw.VBox((output, row0, row1, row2, row3, row4))"
   ]
  },
  {
   "cell_type": "code",
   "execution_count": 4,
   "outputs": [
    {
     "ename": "ModuleNotFoundError",
     "evalue": "No module named 'requests'",
     "output_type": "error",
     "traceback": [
      "\u001B[1;31m---------------------------------------------------------------------------\u001B[0m",
      "\u001B[1;31mModuleNotFoundError\u001B[0m                       Traceback (most recent call last)",
      "\u001B[1;32m<ipython-input-4-cfb98ba044dc>\u001B[0m in \u001B[0;36m<module>\u001B[1;34m\u001B[0m\n\u001B[0;32m      1\u001B[0m \u001B[1;32mimport\u001B[0m \u001B[0mdifflib\u001B[0m\u001B[1;33m\u001B[0m\u001B[1;33m\u001B[0m\u001B[0m\n\u001B[0;32m      2\u001B[0m \u001B[1;32mimport\u001B[0m \u001B[0mrandom\u001B[0m\u001B[1;33m\u001B[0m\u001B[1;33m\u001B[0m\u001B[0m\n\u001B[1;32m----> 3\u001B[1;33m \u001B[1;32mimport\u001B[0m \u001B[0mrequests\u001B[0m\u001B[1;33m\u001B[0m\u001B[1;33m\u001B[0m\u001B[0m\n\u001B[0m\u001B[0;32m      4\u001B[0m \u001B[1;32mimport\u001B[0m \u001B[0mipywidgets\u001B[0m \u001B[1;32mas\u001B[0m \u001B[0mwidgets\u001B[0m\u001B[1;33m\u001B[0m\u001B[1;33m\u001B[0m\u001B[0m\n\u001B[0;32m      5\u001B[0m \u001B[1;33m\u001B[0m\u001B[0m\n",
      "\u001B[1;31mModuleNotFoundError\u001B[0m: No module named 'requests'"
     ]
    }
   ],
   "source": [
    "import difflib\n",
    "import random\n",
    "import requests\n",
    "import ipywidgets as widgets\n",
    "\n",
    "\n",
    "def multi_checkbox_widget(descriptions):\n",
    "    \"\"\" Widget with a search field and lots of checkboxes \"\"\"\n",
    "    search_widget = widgets.Text()\n",
    "    options_dict = {description: widgets.Checkbox(description=description, value=False) for description in descriptions}\n",
    "    options = [options_dict[description] for description in descriptions]\n",
    "    options_widget = widgets.VBox(options, layout={'overflow': 'scroll'})\n",
    "    multi_select = widgets.VBox([search_widget, options_widget])\n",
    "\n",
    "    # Wire the search field to the checkboxes\n",
    "    def on_text_change(change):\n",
    "        search_input = change['new']\n",
    "        if search_input == '':\n",
    "            # Reset search field\n",
    "            new_options = [options_dict[description] for description in descriptions]\n",
    "        else:\n",
    "            # Filter by search field using difflib.\n",
    "            close_matches = difflib.get_close_matches(search_input, descriptions, cutoff=0.0)\n",
    "            new_options = [options_dict[description] for description in close_matches]\n",
    "        options_widget.children = new_options\n",
    "\n",
    "    search_widget.observe(on_text_change, names='value')\n",
    "    return multi_select\n",
    "\n",
    "# Example of using the widget\n",
    "\n",
    "# Get lots of words for our options\n",
    "words_url = 'https://svnweb.freebsd.org/csrg/share/dict/words?view=co&content-type=text/plain'\n",
    "response = requests.get(words_url)\n",
    "response.raise_for_status()\n",
    "words = response.text\n",
    "words = set([word.lower() for word in words.splitlines()])\n",
    "descriptions = random.sample(words, 100)\n",
    "\n",
    "multi_checkbox_widget(descriptions)"
   ],
   "metadata": {
    "collapsed": false,
    "pycharm": {
     "name": "#%%\n"
    }
   }
  }
 ],
 "metadata": {
  "kernelspec": {
   "display_name": "Python 3",
   "language": "python",
   "name": "python3"
  },
  "language_info": {
   "codemirror_mode": {
    "name": "ipython",
    "version": 2
   },
   "file_extension": ".py",
   "mimetype": "text/x-python",
   "name": "python",
   "nbconvert_exporter": "python",
   "pygments_lexer": "ipython2",
   "version": "2.7.6"
  }
 },
 "nbformat": 4,
 "nbformat_minor": 0
}